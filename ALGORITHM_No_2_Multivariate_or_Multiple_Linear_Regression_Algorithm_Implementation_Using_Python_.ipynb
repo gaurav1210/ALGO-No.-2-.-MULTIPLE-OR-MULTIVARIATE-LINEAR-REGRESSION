{
  "nbformat": 4,
  "nbformat_minor": 0,
  "metadata": {
    "colab": {
      "name": "ALGORITHM No. 2 . Multivariate or Multiple Linear Regression Algorithm Implementation Using Python  .ipynb",
      "provenance": [],
      "private_outputs": true,
      "mount_file_id": "1vgEWn3xVXVF5hgou7a72pzN3RpSVHdTH",
      "authorship_tag": "ABX9TyOC/Vi/51qyXMmeuLqBpNpc",
      "include_colab_link": true
    },
    "kernelspec": {
      "name": "python3",
      "display_name": "Python 3"
    }
  },
  "cells": [
    {
      "cell_type": "markdown",
      "metadata": {
        "id": "view-in-github",
        "colab_type": "text"
      },
      "source": [
        "<a href=\"https://colab.research.google.com/github/gaurav1210/ALGO-No.-2-.-MULTIPLE-OR-MULTIVARIATE-LINEAR-REGRESSION/blob/master/ALGORITHM_No_2_Multivariate_or_Multiple_Linear_Regression_Algorithm_Implementation_Using_Python_.ipynb\" target=\"_parent\"><img src=\"https://colab.research.google.com/assets/colab-badge.svg\" alt=\"Open In Colab\"/></a>"
      ]
    },
    {
      "cell_type": "markdown",
      "metadata": {
        "id": "lIh5hT7WBlQm",
        "colab_type": "text"
      },
      "source": [
        "## Step 1. Importing all necessary **Library**"
      ]
    },
    {
      "cell_type": "code",
      "metadata": {
        "id": "VkUy-W7Bc9pj",
        "colab_type": "code",
        "colab": {}
      },
      "source": [
        "import seaborn as seabornInstance                     # Library for statistical intractive visualization "
      ],
      "execution_count": 0,
      "outputs": []
    },
    {
      "cell_type": "code",
      "metadata": {
        "id": "HqcESwC6BT80",
        "colab_type": "code",
        "colab": {}
      },
      "source": [
        "import pandas as pd                 # library for dataframe and manipulation\n",
        "import numpy as np                  # Library for numerical calculations \n",
        "import matplotlib.pyplot as plt     # Module for graphical visualizations\n",
        "from sklearn import linear_model    # Package for linear model\n",
        "from sklearn.linear_model import LinearRegression     # Specially calling linear regression\n",
        "from sklearn.model_selection import train_test_split  # Library for spliting datasets   \n",
        "from sklearn import metrics                           #  Matices package for calculting Mean, medain , mode etc.\n",
        "import math"
      ],
      "execution_count": 0,
      "outputs": []
    },
    {
      "cell_type": "markdown",
      "metadata": {
        "id": "jC_aqxAn3FtV",
        "colab_type": "text"
      },
      "source": [
        "## Step 2. Create the **dataset** manually using pandas dataframe"
      ]
    },
    {
      "cell_type": "code",
      "metadata": {
        "id": "9zOkwGro3EJ9",
        "colab_type": "code",
        "colab": {}
      },
      "source": [
        "car = pd.DataFrame({\"Car_ID\": [1,2,3,4,5,6,7,8,9,10],\"CarName\":['Audi','BMW','Ferrari','Mercedes','Jaguar','Indica','Alto','AlfaRomeo','Honda','Hyundai'],\n",
        "\"FuelType\":['Diesel','Diesel','Gas','Gas','Gas','Petrol','Petrol','Petrol','Diesel','Gas'],\n",
        "'EngineLocation':['Front','Front','Front','Front','Front','Front','Front','Back','Back','Back'],\"CarLength\":[165,170,172,175,150,145,167,168,179,180],\n",
        "\"CarWidth\":[70,74,76,\" \",80,82,96,73,74,\" \"],\"CarHeight\":[45,46,47,50,35,56,57,68,48,53],\"EngineType\":['dohc','dhoc','dhoc','dhoc','hoc','hoc','hoce','dohc','ohc','dohc'],\n",
        "\"CylinderNumber\":[6,6,6,8,4,4,4,6,8,4],'EngineSize':[170,165,166,175,164,140,136,134,132,126],\"HorsePower\":[110,112,135,156,110,100,90,95,99,98],\"Price\":[9500000,8754308,6000345,7000000,6000000,250000,120000,234500,230000,300000]})  # pandas method for creating the datasets"
      ],
      "execution_count": 0,
      "outputs": []
    },
    {
      "cell_type": "markdown",
      "metadata": {
        "id": "Yp7eURI_HdIW",
        "colab_type": "text"
      },
      "source": [
        "## Step 3.**Demonstrating** the datasets into the working environment"
      ]
    },
    {
      "cell_type": "code",
      "metadata": {
        "id": "zYUS-85FZlxj",
        "colab_type": "code",
        "colab": {}
      },
      "source": [
        "car.shape          "
      ],
      "execution_count": 0,
      "outputs": []
    },
    {
      "cell_type": "code",
      "metadata": {
        "id": "wuxHfjnhaKgk",
        "colab_type": "code",
        "colab": {}
      },
      "source": [
        "car                      # print the car dataset"
      ],
      "execution_count": 0,
      "outputs": []
    },
    {
      "cell_type": "markdown",
      "metadata": {
        "id": "aW0e2PIRIO6A",
        "colab_type": "text"
      },
      "source": [
        "## Step 4. Data **Preprocessing**\n",
        "## SubStep 4.1 Exploring the **missing** stuff"
      ]
    },
    {
      "cell_type": "code",
      "metadata": {
        "id": "U-0GwmgcIhLS",
        "colab_type": "code",
        "colab": {}
      },
      "source": [
        "car.CarWidth                            # Exploring the missing stuff or unwanted stuff by manually.\n",
        "c=0\n",
        "for any in list(car.CarWidth):\n",
        "  if(str(any).isspace()==True):\n",
        "    c+=1\n",
        "print(c, 'space')"
      ],
      "execution_count": 0,
      "outputs": []
    },
    {
      "cell_type": "markdown",
      "metadata": {
        "id": "4V7Lm0riBHCu",
        "colab_type": "text"
      },
      "source": [
        "## SubStep 4.2 **Cleaning** the data"
      ]
    },
    {
      "cell_type": "code",
      "metadata": {
        "id": "3rYAF6UZ5m2M",
        "colab_type": "code",
        "colab": {}
      },
      "source": [
        "newcar=car.replace(to_replace =\" \", value =70)     # method to replace the missing value with some dummy value.\n",
        "newcar"
      ],
      "execution_count": 0,
      "outputs": []
    },
    {
      "cell_type": "code",
      "metadata": {
        "id": "CQvVE10rRuWg",
        "colab_type": "code",
        "colab": {}
      },
      "source": [
        "df=newcar.drop(['CarName','FuelType','EngineLocation','EngineType'],axis=1)       # method for removing the unwanted column from datasets.\n",
        "df"
      ],
      "execution_count": 0,
      "outputs": []
    },
    {
      "cell_type": "markdown",
      "metadata": {
        "id": "_gxl8COnx_pD",
        "colab_type": "text"
      },
      "source": [
        "## Step 5. Spliting the dataset into **Independent variable (X)** and **Dependent variable(Y)**"
      ]
    },
    {
      "cell_type": "code",
      "metadata": {
        "id": "GZTTkMDKiJE6",
        "colab_type": "code",
        "colab": {}
      },
      "source": [
        "x = df.iloc[:, :-1]       # iloc used for sepearte the required column from the datasets\n",
        "y = df.iloc[:,7:]   "
      ],
      "execution_count": 0,
      "outputs": []
    },
    {
      "cell_type": "code",
      "metadata": {
        "id": "ZnQCKk_CQ7GL",
        "colab_type": "code",
        "colab": {}
      },
      "source": [
        "x"
      ],
      "execution_count": 0,
      "outputs": []
    },
    {
      "cell_type": "code",
      "metadata": {
        "id": "GsfL0XB-RCqQ",
        "colab_type": "code",
        "colab": {}
      },
      "source": [
        "y"
      ],
      "execution_count": 0,
      "outputs": []
    },
    {
      "cell_type": "markdown",
      "metadata": {
        "id": "Tv3wu9MvJ-s0",
        "colab_type": "text"
      },
      "source": [
        "## Step 6.  **Shape** of dependent Variable and Independent Variable."
      ]
    },
    {
      "cell_type": "code",
      "metadata": {
        "id": "x13H9VZyKKCE",
        "colab_type": "code",
        "colab": {}
      },
      "source": [
        "x.shape"
      ],
      "execution_count": 0,
      "outputs": []
    },
    {
      "cell_type": "code",
      "metadata": {
        "id": "QcMYuM_-ODLf",
        "colab_type": "code",
        "colab": {}
      },
      "source": [
        "y.shape"
      ],
      "execution_count": 0,
      "outputs": []
    },
    {
      "cell_type": "markdown",
      "metadata": {
        "id": "6Kfz4YEuOfvg",
        "colab_type": "text"
      },
      "source": [
        "## Step 7. Spliting the datasets into **training and testing** part"
      ]
    },
    {
      "cell_type": "code",
      "metadata": {
        "id": "flC1U-99Om1h",
        "colab_type": "code",
        "colab": {}
      },
      "source": [
        "x_train,x_test,y_train,y_test = train_test_split(x,y, test_size =0.2, random_state=0)       # inbuilt method for split datasets into training and testing.\n",
        "x_train"
      ],
      "execution_count": 0,
      "outputs": []
    },
    {
      "cell_type": "code",
      "metadata": {
        "id": "kQyv8ktwyyO5",
        "colab_type": "code",
        "colab": {}
      },
      "source": [
        "x_test"
      ],
      "execution_count": 0,
      "outputs": []
    },
    {
      "cell_type": "code",
      "metadata": {
        "id": "Uax46_IKy5SL",
        "colab_type": "code",
        "colab": {}
      },
      "source": [
        "y_train"
      ],
      "execution_count": 0,
      "outputs": []
    },
    {
      "cell_type": "code",
      "metadata": {
        "id": "vUI8vo7Zy8f8",
        "colab_type": "code",
        "colab": {}
      },
      "source": [
        "y_test"
      ],
      "execution_count": 0,
      "outputs": []
    },
    {
      "cell_type": "code",
      "metadata": {
        "id": "TgbO5Pt_D9u3",
        "colab_type": "code",
        "colab": {}
      },
      "source": [
        ""
      ],
      "execution_count": 0,
      "outputs": []
    },
    {
      "cell_type": "markdown",
      "metadata": {
        "id": "JuDkw38GsFuD",
        "colab_type": "text"
      },
      "source": [
        "## Step 8. Training the algorthm."
      ]
    },
    {
      "cell_type": "code",
      "metadata": {
        "id": "Dhu8fia8PbSw",
        "colab_type": "code",
        "colab": {}
      },
      "source": [
        "model = LinearRegression()   # This method is inbuilt into the linear model class in scikit learn.\n",
        "model.fit(x_train,y_train)    # Method for training the datasets."
      ],
      "execution_count": 0,
      "outputs": []
    },
    {
      "cell_type": "markdown",
      "metadata": {
        "id": "BzLc0wzFsWM5",
        "colab_type": "text"
      },
      "source": [
        "## Step 9 & 10. Retrieving the **intercept and coefcient or slope**"
      ]
    },
    {
      "cell_type": "code",
      "metadata": {
        "id": "iNk_tLmAafkU",
        "colab_type": "code",
        "colab": {}
      },
      "source": [
        "print(model.intercept_)    # finding the value of intercept.\n",
        "print(model.coef_)         # fonding the value of coeficient."
      ],
      "execution_count": 0,
      "outputs": []
    },
    {
      "cell_type": "markdown",
      "metadata": {
        "id": "jmU7EQFCsxyB",
        "colab_type": "text"
      },
      "source": [
        "## Step 11. Predict the value of algorithm."
      ]
    },
    {
      "cell_type": "code",
      "metadata": {
        "id": "sYYhIXF7a5Og",
        "colab_type": "code",
        "colab": {}
      },
      "source": [
        "y_pred=model.predict(x_test)      # methiod for predicting the values of testing datasets.\n",
        "y_pred"
      ],
      "execution_count": 0,
      "outputs": []
    },
    {
      "cell_type": "markdown",
      "metadata": {
        "id": "ZsDnG7ceDIgN",
        "colab_type": "text"
      },
      "source": [
        "## Step 12. Comparing the **actual and predicted value** With **Graph Visuallization**"
      ]
    },
    {
      "cell_type": "code",
      "metadata": {
        "id": "ofMpUIBNbONH",
        "colab_type": "code",
        "colab": {}
      },
      "source": [
        "pf = pd.DataFrame({'Actual': np.array(y_test).flatten(), 'Predicted': y_pred.flatten()})\n",
        "pf"
      ],
      "execution_count": 0,
      "outputs": []
    },
    {
      "cell_type": "code",
      "metadata": {
        "id": "oOORoUhfqvoL",
        "colab_type": "code",
        "colab": {}
      },
      "source": [
        "df1 = pf.head(30)\n",
        "df1.plot(kind='bar',figsize=(5,7))\n",
        "plt.grid(which='major', linestyle='-', linewidth='0.5', color='green')\n",
        "plt.grid(which='minor', linestyle=':', linewidth='0.5', color='black')\n",
        "plt.show()"
      ],
      "execution_count": 0,
      "outputs": []
    },
    {
      "cell_type": "markdown",
      "metadata": {
        "id": "Psl3GjbAWOkV",
        "colab_type": "text"
      },
      "source": [
        "## Step : 13 **Evalute** the algorithm"
      ]
    },
    {
      "cell_type": "code",
      "metadata": {
        "id": "iFXuGEqUrANd",
        "colab_type": "code",
        "colab": {}
      },
      "source": [
        "print('Mean Absolute Error:', metrics.mean_absolute_error(y_test, y_pred))  \n",
        "print('Mean Squared Error:', metrics.mean_squared_error(y_test, y_pred))  \n",
        "print('Root Mean Squared Error:', np.sqrt(metrics.mean_squared_error(y_test, y_pred)))"
      ],
      "execution_count": 0,
      "outputs": []
    },
    {
      "cell_type": "markdown",
      "metadata": {
        "id": "Hw3qukMJWdUa",
        "colab_type": "text"
      },
      "source": [
        "## Step 14. **Test** The algorithm"
      ]
    },
    {
      "cell_type": "code",
      "metadata": {
        "id": "3hI9UyJOrbdw",
        "colab_type": "code",
        "colab": {}
      },
      "source": [
        "test=model.predict([[9,179,74,48,8,132,99]])          # predicting the value using trained model.\n",
        "test"
      ],
      "execution_count": 0,
      "outputs": []
    }
  ]
}